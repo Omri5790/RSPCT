{
 "cells": [
  {
   "cell_type": "code",
   "execution_count": 1,
   "id": "89ec3b7a-5bca-4930-9e51-f000548f964e",
   "metadata": {},
   "outputs": [
    {
     "name": "stdout",
     "output_type": "stream",
     "text": [
      "HitLocalTime after conversion:\n",
      " 0   2021-07-28 18:06:42\n",
      "1   2021-07-28 18:06:47\n",
      "2   2021-07-28 18:06:52\n",
      "3   2021-07-28 18:07:00\n",
      "4   2021-07-28 18:07:05\n",
      "Name: HitLocalTime, dtype: datetime64[ns]\n",
      "TimeInSeconds:\n",
      "          HitLocalTime  TimeInSeconds\n",
      "0 2021-07-28 18:06:42          65202\n",
      "1 2021-07-28 18:06:47          65207\n",
      "2 2021-07-28 18:06:52          65212\n",
      "3 2021-07-28 18:07:00          65220\n",
      "4 2021-07-28 18:07:05          65225\n"
     ]
    }
   ],
   "source": [
    "import pandas as pd\n",
    "import numpy as np\n",
    "from datetime import datetime\n",
    "\n",
    "# שלב 1: איחוד הנתונים\n",
    "# טוענים כל קובץ ל-DataFrame\n",
    "df_1= pd.read_csv('Shot Csvs/df_1.csv')\n",
    "df_2=pd.read_csv('Shot Csvs/df_2.csv')\n",
    "df_3=pd.read_csv('Shot Csvs/df_3.csv')\n",
    "\n",
    "# מאחדים את הנתונים לקובץ אחד\n",
    "df = pd.concat([df_1, df_2,df_3], ignore_index=True) \n",
    "\n",
    "# המרת עמודת HitLocalTime לפורמט datetime\n",
    "try:\n",
    "    df['HitLocalTime'] = pd.to_datetime(df['HitLocalTime'].str.split(' GMT').str[0], format='%a %b %d %Y %H:%M:%S', errors='coerce')\n",
    "    print(\"HitLocalTime after conversion:\\n\", df['HitLocalTime'].head())\n",
    "except Exception as e:\n",
    "    print(f\"Error converting HitLocalTime: {e}\")\n",
    "\n",
    "# חישוב הזמן בשניות מתחילת היום\n",
    "df['TimeInSeconds'] = df['HitLocalTime'].dt.hour * 3600 + df['HitLocalTime'].dt.minute * 60 + df['HitLocalTime'].dt.second\n",
    "\n",
    "# הצגה של העמודה החדשה\n",
    "print(\"TimeInSeconds:\\n\", df[['HitLocalTime', 'TimeInSeconds']].head())\n"
   ]
  },
  {
   "cell_type": "code",
   "execution_count": 2,
   "id": "098144b4-2d2f-4ccb-8000-4e04f4114d5a",
   "metadata": {
    "scrolled": true
   },
   "outputs": [
    {
     "name": "stdout",
     "output_type": "stream",
     "text": [
      "Shot Distance and Angle:\n",
      "     HitX  HitY  OriginX  OriginY  ShotDistance  ShotAngle\n",
      "0   36.0 -23.0    -2081      249   2134.402258  -7.321462\n",
      "1  -13.0 -48.0    -2130      217   2133.521502  -7.135009\n",
      "2 -141.0 -84.0    -1980      204   1861.414785  -8.900617\n",
      "3   27.0  90.0    -1802       46   1829.529174   1.378091\n",
      "4   72.0 -37.0    -1995      280   2091.166660  -8.719082\n"
     ]
    }
   ],
   "source": [
    "\n",
    "# חישוב מרחק הזריקה (אוקלידי)\n",
    "df['ShotDistance'] = np.sqrt((df['HitX'] - df['OriginX'])**2 + (df['HitY'] - df['OriginY'])**2)\n",
    "\n",
    "\n",
    "# חישוב זווית הזריקה (במעלות) ביחס לציר האופקי\n",
    "df['ShotAngle'] = np.degrees(np.arctan2(df['HitY'] - df['OriginY'], df['HitX'] - df['OriginX']))\n",
    "\n",
    "# התאמת זוויות כדי להבטיח שהן בטווח של -90 עד 90 מעלות\n",
    "df['ShotAngle'] = df['ShotAngle'].apply(lambda angle: angle if -90 <= angle <= 90 else angle - 180 if angle > 90 else angle + 180)\n",
    "\n",
    "# הצגה של התוצאות\n",
    "print(\"Shot Distance and Angle:\\n\", df[['HitX', 'HitY', 'OriginX', 'OriginY', 'ShotDistance', 'ShotAngle']].head())\n"
   ]
  },
  {
   "cell_type": "code",
   "execution_count": 3,
   "id": "20685351-45aa-40c6-a680-2db8be681ba0",
   "metadata": {},
   "outputs": [
    {
     "name": "stdout",
     "output_type": "stream",
     "text": [
      "Shot Distance and Angle:\n",
      "     HitX  HitY  OriginX  OriginY  ShotDistance  ShotAngle\n",
      "0   36.0 -23.0    -2081      249   2134.402258  -7.321462\n",
      "1  -13.0 -48.0    -2130      217   2133.521502  -7.135009\n",
      "2 -141.0 -84.0    -1980      204   1861.414785  -8.900617\n",
      "3   27.0  90.0    -1802       46   1829.529174   1.378091\n",
      "4   72.0 -37.0    -1995      280   2091.166660  -8.719082\n"
     ]
    }
   ],
   "source": [
    "\n",
    "# חישוב מרחק הזריקה (אוקלידי)\n",
    "df['ShotDistance'] = np.sqrt((df['HitX'] - df['OriginX'])**2 + (df['HitY'] - df['OriginY'])**2)\n",
    "\n",
    "# חישוב זווית הזריקה (במעלות) ביחס לציר האופקי\n",
    "df['ShotAngle'] = np.degrees(np.arctan2(df['HitY'] - df['OriginY'], df['HitX'] - df['OriginX']))\n",
    "\n",
    "# התאמת זוויות כדי להבטיח שהן בטווח של -90 עד 90 מעלות\n",
    "df['ShotAngle'] = df['ShotAngle'].apply(lambda angle: angle if -90 <= angle <= 90 else angle - 180 if angle > 90 else angle + 180)\n",
    "\n",
    "# הצגה של התוצאות\n",
    "print(\"Shot Distance and Angle:\\n\", df[['HitX', 'HitY', 'OriginX', 'OriginY', 'ShotDistance', 'ShotAngle']].head())\n"
   ]
  },
  {
   "cell_type": "code",
   "execution_count": null,
   "id": "bdfc146c-5f92-4210-b206-8b8f9fcd14d2",
   "metadata": {},
   "outputs": [],
   "source": []
  },
  {
   "cell_type": "code",
   "execution_count": 4,
   "id": "81bd9889-16d4-47a5-a28e-3ffcf8de68fb",
   "metadata": {
    "scrolled": true
   },
   "outputs": [],
   "source": [
    "# ניקוי נתונים עם מרחק קצר מדי (מתחת ל-3 מטרים)\n",
    "df = df[df['ShotDistance'] >= 3000]  # מתחת ל-300 ס\"מ (3 מטר)\n",
    "\n",
    "# המרה של עמודת Made ל-1 עבור TRUE ול-0 עבור FALSE\n",
    "df['Made'] = df['Made'].apply(lambda x: 1 if x else 0)\n",
    "\n",
    "# המרה של עמודת HitBackboard ל-1 עבור TRUE ול-0 עבור FALSE\n",
    "df['HitBackboard'] = df['HitBackboard'].apply(lambda x: 1 if x else 0)\n",
    "\n",
    "\n",
    "\n",
    "# יצירת עמודות בינאריות לעמדות על סמך הזווית\n",
    "df['Corner_Right'] = np.where((-90 <= df['ShotAngle']) & (df['ShotAngle'] < -60), 1, 0)  # פינה ימין\n",
    "df['Wing_Right'] = np.where((-60 <= df['ShotAngle']) & (df['ShotAngle'] < -20), 1, 0)  # חצי פינה ימין\n",
    "df['TOP'] = np.where((-20 <= df['ShotAngle']) & (df['ShotAngle'] <= 20), 1, 0)  # אמצע\n",
    "df['Wing_Left'] = np.where((20 < df['ShotAngle']) & (df['ShotAngle'] <= 60), 1, 0)  # חצי פינה שמאל\n",
    "df['Corner_Left'] = np.where((60 < df['ShotAngle']) & (df['ShotAngle'] <= 90), 1, 0)  # פינה שמאל\n"
   ]
  },
  {
   "cell_type": "code",
   "execution_count": 5,
   "id": "98c7f801-b13c-45c3-896e-1a7a5653561c",
   "metadata": {
    "scrolled": true
   },
   "outputs": [
    {
     "name": "stdout",
     "output_type": "stream",
     "text": [
      "קובץ ה-CSV נשמר בהצלחה עם עמודות מנורמלות.\n"
     ]
    }
   ],
   "source": [
    "from sklearn.preprocessing import StandardScaler\n",
    "\n",
    "# יצירת ClusterID בהתבסס על התנאי שהגדרת:\n",
    "# כל קלאסטר מתחלף כאשר ההפרש בין הזריקות עולה על 2 דקות\n",
    "df = df.sort_values(by=['HitLocalTime'])  # מיון לפי הזמן\n",
    "df['ClusterID'] = 0\n",
    "current_cluster = 0\n",
    "previous_time = df['HitLocalTime'].iloc[0]\n",
    "\n",
    "for idx, row in df.iterrows():\n",
    "    time_diff = (row['HitLocalTime'] - previous_time).total_seconds() / 60  # ההפרש בדקות\n",
    "    if time_diff > 1:  # מתחילים קלאסטר חדש אם ההפרש גדול מ-2 דקות\n",
    "        current_cluster += 1\n",
    "    df.at[idx, 'ClusterID'] = current_cluster\n",
    "    previous_time = row['HitLocalTime']\n",
    "\n",
    "\n",
    "#רשימת עמודות לנרמול\n",
    "columns_to_normalize = ['ShotDistance', 'ShotAngle', 'TimeInSeconds', 'HitX', 'HitY', 'OriginX', 'OriginY']\n",
    "\n",
    "# יצירת אובייקט StandardScaler\n",
    "scaler = StandardScaler()\n",
    "\n",
    "# ביצוע נרמול של העמודות\n",
    "normalized_data = scaler.fit_transform(df[columns_to_normalize])\n",
    "\n",
    "# הוספת העמודות המנורמלות לדאטה פריים עם שמות מציינים נורמליזציה\n",
    "for i, col in enumerate(columns_to_normalize):\n",
    "    df[f'Norm_{col}'] = normalized_data[:, i]\n",
    "\n",
    "\n",
    "# שמירת הקובץ עם העמודות המנורמלות\n",
    "df.to_csv('Multi_df.csv', index=False)\n",
    "print(\"קובץ ה-CSV נשמר בהצלחה עם עמודות מנורמלות.\")\n",
    "\n"
   ]
  },
  {
   "cell_type": "code",
   "execution_count": null,
   "id": "5c868836-d4af-4bc2-aef4-599d06d661a1",
   "metadata": {},
   "outputs": [],
   "source": []
  },
  {
   "cell_type": "code",
   "execution_count": null,
   "id": "247b66a7-e46d-425e-95bd-fabfd67ff121",
   "metadata": {},
   "outputs": [],
   "source": []
  },
  {
   "cell_type": "code",
   "execution_count": null,
   "id": "621fd655-1864-471f-9e92-a67dcbb44c37",
   "metadata": {},
   "outputs": [],
   "source": []
  },
  {
   "cell_type": "code",
   "execution_count": null,
   "id": "8f6882b0-07bc-483b-81d7-97aa43b43065",
   "metadata": {},
   "outputs": [],
   "source": []
  },
  {
   "cell_type": "code",
   "execution_count": null,
   "id": "ab844239-c842-410d-af74-16c4115d234a",
   "metadata": {},
   "outputs": [],
   "source": []
  },
  {
   "cell_type": "code",
   "execution_count": null,
   "id": "0bfd358f-3403-49d4-ba2f-9ad4db86cd2c",
   "metadata": {},
   "outputs": [],
   "source": []
  },
  {
   "cell_type": "code",
   "execution_count": null,
   "id": "fe3769e1-4eae-4f6c-8100-e65a51b333d6",
   "metadata": {},
   "outputs": [],
   "source": []
  }
 ],
 "metadata": {
  "kernelspec": {
   "display_name": "Python 3 (ipykernel)",
   "language": "python",
   "name": "python3"
  },
  "language_info": {
   "codemirror_mode": {
    "name": "ipython",
    "version": 3
   },
   "file_extension": ".py",
   "mimetype": "text/x-python",
   "name": "python",
   "nbconvert_exporter": "python",
   "pygments_lexer": "ipython3",
   "version": "3.11.7"
  }
 },
 "nbformat": 4,
 "nbformat_minor": 5
}
